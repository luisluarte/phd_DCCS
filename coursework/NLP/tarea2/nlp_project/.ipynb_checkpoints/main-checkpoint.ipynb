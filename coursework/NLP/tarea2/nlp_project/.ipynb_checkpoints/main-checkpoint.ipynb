{
 "cells": [
  {
   "cell_type": "code",
   "execution_count": null,
   "id": "1db7d595",
   "metadata": {
    "lines_to_next_cell": 2
   },
   "outputs": [],
   "source": [
    "print(\"this is code\")"
   ]
  },
  {
   "cell_type": "markdown",
   "id": "8001973a",
   "metadata": {},
   "source": [
    "# Markdown header\n",
    "arbitrary text"
   ]
  }
 ],
 "metadata": {
  "jupytext": {
   "cell_metadata_filter": "-all",
   "main_language": "python",
   "notebook_metadata_filter": "-all"
  }
 },
 "nbformat": 4,
 "nbformat_minor": 5
}
