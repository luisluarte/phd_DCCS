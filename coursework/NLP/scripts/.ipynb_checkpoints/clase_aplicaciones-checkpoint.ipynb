{
 "cells": [
  {
   "cell_type": "code",
   "execution_count": 1,
   "id": "82af340c-99f0-4fdf-953f-bddaa425acf3",
   "metadata": {},
   "outputs": [],
   "source": [
    "import pandas as pd\n",
    "\n",
    "from transformers import AutoTokenizer, AutoModelForSequenceClassification\n",
    "from transformers import pipeline"
   ]
  },
  {
   "cell_type": "markdown",
   "id": "1fe04aee-8d73-4ae8-b23e-9ad304325d7f",
   "metadata": {},
   "source": [
    "#### Primer modelo, sentiment analysis"
   ]
  },
  {
   "cell_type": "markdown",
   "id": "27372ff3-d7bf-4703-bcae-15fc1d682a58",
   "metadata": {},
   "source": [
    "Neutro : 0 <br>\n",
    "Negativo : 1 <br>\n",
    "Positivo : 2 "
   ]
  },
  {
   "cell_type": "code",
   "execution_count": 2,
   "id": "58e2a9a2-3b95-49d7-ad2f-01a7f10704b1",
   "metadata": {},
   "outputs": [],
   "source": [
    "model = AutoModelForSequenceClassification.from_pretrained('seq_classification2')"
   ]
  },
  {
   "cell_type": "code",
   "execution_count": 3,
   "id": "1ea3d5a9-62b3-4fb0-9f83-eda7d6d00bd4",
   "metadata": {},
   "outputs": [],
   "source": [
    "tokenizer = AutoTokenizer.from_pretrained(\"seq_classification2\")"
   ]
  },
  {
   "cell_type": "code",
   "execution_count": 4,
   "id": "b84f248a-c41c-4b56-a764-9ca5e7e6da2e",
   "metadata": {},
   "outputs": [],
   "source": [
    "input_text = \"la vida es una porquería\"\n",
    "input_text = \"me encanta el pan con palta, feliz sábado \"\n",
    "#input_text = \"Salió el nuevo número de estudios públicos celebrando los 300 años del nacimiento de Adam Smith\""
   ]
  },
  {
   "cell_type": "code",
   "execution_count": 5,
   "id": "a33624bb-36cd-4840-98e4-b5f9f998ae77",
   "metadata": {},
   "outputs": [],
   "source": [
    "tokenized_text = tokenizer(input_text, truncation=True, return_tensors='pt')\n",
    "outputs = model(tokenized_text[\"input_ids\"])\n",
    "predicted_label = outputs.logits.argmax(-1)"
   ]
  },
  {
   "cell_type": "code",
   "execution_count": 6,
   "id": "840dd05a-f90e-4be5-a04f-467c965bccf2",
   "metadata": {},
   "outputs": [
    {
     "data": {
      "text/plain": [
       "tensor(2)"
      ]
     },
     "execution_count": 6,
     "metadata": {},
     "output_type": "execute_result"
    }
   ],
   "source": [
    "predicted_label[0]"
   ]
  },
  {
   "cell_type": "code",
   "execution_count": 7,
   "id": "c81ab9fb-b1c2-4e09-9f5b-9f937979ac44",
   "metadata": {},
   "outputs": [
    {
     "data": {
      "text/plain": [
       "tensor([[-1.6998, -0.2039,  1.9946]], grad_fn=<AddmmBackward0>)"
      ]
     },
     "execution_count": 7,
     "metadata": {},
     "output_type": "execute_result"
    }
   ],
   "source": [
    "outputs.logits"
   ]
  },
  {
   "cell_type": "code",
   "execution_count": 8,
   "id": "27ef2bae-3e0c-4d9b-a882-4d50b14bec27",
   "metadata": {},
   "outputs": [
    {
     "name": "stderr",
     "output_type": "stream",
     "text": [
      "C:\\Users\\mprav\\AppData\\Local\\Temp\\ipykernel_15112\\2589094364.py:3: UserWarning: To copy construct from a tensor, it is recommended to use sourceTensor.clone().detach() or sourceTensor.clone().detach().requires_grad_(True), rather than torch.tensor(sourceTensor).\n",
      "  F.softmax(torch.tensor(outputs.logits[0]))\n",
      "C:\\Users\\mprav\\AppData\\Local\\Temp\\ipykernel_15112\\2589094364.py:3: UserWarning: Implicit dimension choice for softmax has been deprecated. Change the call to include dim=X as an argument.\n",
      "  F.softmax(torch.tensor(outputs.logits[0]))\n"
     ]
    },
    {
     "data": {
      "text/plain": [
       "tensor([0.0219, 0.0977, 0.8804])"
      ]
     },
     "execution_count": 8,
     "metadata": {},
     "output_type": "execute_result"
    }
   ],
   "source": [
    "import torch\n",
    "import torch.nn.functional as F \n",
    "F.softmax(torch.tensor(outputs.logits[0]))"
   ]
  },
  {
   "cell_type": "markdown",
   "id": "004a3874-fb39-4a96-b85c-8b61613d54f1",
   "metadata": {},
   "source": [
    "available tasks are ['audio-classification', 'automatic-speech-recognition', 'depth-estimation', 'document-question-answering', 'feature-extraction', 'fill-mask', 'image-classification', 'image-feature-extraction', 'image-segmentation', 'image-to-image', 'image-to-text', 'mask-generation', 'ner', 'object-detection', 'question-answering', 'sentiment-analysis', 'summarization', 'table-question-answering', 'text-classification', 'text-generation', 'text-to-audio', 'text-to-speech', 'text2text-generation', 'token-classification', 'translation', 'video-classification', 'visual-question-answering', 'vqa', 'zero-shot-audio-classification', 'zero-shot-classification', 'zero-shot-image-classification', 'zero-shot-object-detection', 'translation_XX_to_YY'"
   ]
  },
  {
   "cell_type": "markdown",
   "id": "832a6a23-2196-46aa-9293-bb57f4a7c61a",
   "metadata": {},
   "source": [
    "### NER Name entity recognition"
   ]
  },
  {
   "cell_type": "markdown",
   "id": "5d5151c8-5e34-4fb2-afe1-3cb085cf55e6",
   "metadata": {},
   "source": [
    "https://huggingface.co/mrm8488/bert-spanish-cased-finetuned-ner\n",
    "\n",
    "Spanish BERT (BETO) + NER <br>\r\n",
    "This model is a fine-tuned on NER-C version of the Spanish BERT cased (BETO) for NER downstream task"
   ]
  },
  {
   "cell_type": "markdown",
   "id": "ba530f96-ef7c-4ed9-8259-74f5bb0f73a1",
   "metadata": {},
   "source": [
    "Entrenado con CoNLL (Computational Natural Language Learning) Corpora\n",
    "https://www.kaggle.com/datasets/nltkdata/conll-corpora\n",
    "\n",
    "En este link https://www.cnts.ua.ac.be/conll2002/ner/, se explica que\n",
    "\n",
    "The data consists of two columns separated by a single space. Each word has been put on a separate line and there is an empty line after each sentence. The first item on each line is a word and the second the named entity tag. The tags have the same format as in the chunking task: a B denotes the first item of a phrase and an I any non-initial word. There are four types of phrases: person names (PER), organizations (ORG), locations (LOC) and miscellaneous names (MISC).\n",
    "\n",
    "Entonces tenemos\n",
    "\n",
    "B-PER <br>\n",
    "B-ORG <br>\n",
    "B-LOC <br>\n",
    "B-MISC <br>\n",
    "\n",
    "I-PER <br> \n",
    "I-ORG <br>\n",
    "I-LOC <br>\n",
    "I-MISC <br>\n",
    "\n",
    "Ojo: la distinción entre B e I tiene que ver con nombres de entidades compuestas."
   ]
  },
  {
   "cell_type": "markdown",
   "id": "b12065b0-d981-4a03-bfb0-ff781d7bbb47",
   "metadata": {},
   "source": [
    "#### ¿Como es entreanado? \n",
    "\n",
    "La página https://huggingface.co/mrm8488/bert-spanish-cased-finetuned-ner sugiere un enlace a HuggingFace, pero está roto. Sin embargo, se alcanza a notar que el task es \"token classification\". \n",
    "\n",
    "Asi que en la página de HuggingFace uno puede saber como funciona este task: https://huggingface.co/learn/nlp-course/en/chapter7/2\n",
    "\n"
   ]
  },
  {
   "cell_type": "code",
   "execution_count": 9,
   "id": "bbfee4cd-bf7b-4eaf-b678-ff3d281e7408",
   "metadata": {},
   "outputs": [
    {
     "name": "stderr",
     "output_type": "stream",
     "text": [
      "Some weights of the model checkpoint at mrm8488/bert-spanish-cased-finetuned-ner were not used when initializing BertForTokenClassification: ['bert.pooler.dense.bias', 'bert.pooler.dense.weight']\n",
      "- This IS expected if you are initializing BertForTokenClassification from the checkpoint of a model trained on another task or with another architecture (e.g. initializing a BertForSequenceClassification model from a BertForPreTraining model).\n",
      "- This IS NOT expected if you are initializing BertForTokenClassification from the checkpoint of a model that you expect to be exactly identical (initializing a BertForSequenceClassification model from a BertForSequenceClassification model).\n"
     ]
    }
   ],
   "source": [
    "nlp_ner = pipeline(\"ner\", model=\"mrm8488/bert-spanish-cased-finetuned-ner\", tokenizer=('mrm8488/bert-spanish-cased-finetuned-ner',  {\"use_fast\": False}))"
   ]
  },
  {
   "cell_type": "code",
   "execution_count": 10,
   "id": "165a9257-c7a6-4b3f-a8f3-aeb6c3e74d9d",
   "metadata": {},
   "outputs": [],
   "source": [
    "text = 'Mis amigos están pensando viajar a Londres este verano.'\n",
    "text = 'Amanda están pensando viajar a Londres este verano.'\n",
    "text = 'Mis amigos están pensando visitar la ONU este verano.'\n",
    "text = 'Mis amigos están pensando viajar a Talca este verano.'\n",
    "text = 'Mis amigos están pensando viajar a Nueva York este verano.'\n",
    "text = 'Pepe Auth solía pertencer al PPD, pero ya no. '"
   ]
  },
  {
   "cell_type": "code",
   "execution_count": 11,
   "id": "4c2e71f4-cefc-4469-acce-07bb30ebeec1",
   "metadata": {},
   "outputs": [
    {
     "name": "stderr",
     "output_type": "stream",
     "text": [
      "Asking to truncate to max_length but no maximum length is provided and the model has no predefined maximum length. Default to no truncation.\n"
     ]
    },
    {
     "data": {
      "text/html": [
       "<div>\n",
       "<style scoped>\n",
       "    .dataframe tbody tr th:only-of-type {\n",
       "        vertical-align: middle;\n",
       "    }\n",
       "\n",
       "    .dataframe tbody tr th {\n",
       "        vertical-align: top;\n",
       "    }\n",
       "\n",
       "    .dataframe thead th {\n",
       "        text-align: right;\n",
       "    }\n",
       "</style>\n",
       "<table border=\"1\" class=\"dataframe\">\n",
       "  <thead>\n",
       "    <tr style=\"text-align: right;\">\n",
       "      <th></th>\n",
       "      <th>entity</th>\n",
       "      <th>score</th>\n",
       "      <th>index</th>\n",
       "      <th>word</th>\n",
       "      <th>start</th>\n",
       "      <th>end</th>\n",
       "    </tr>\n",
       "  </thead>\n",
       "  <tbody>\n",
       "    <tr>\n",
       "      <th>0</th>\n",
       "      <td>B-PER</td>\n",
       "      <td>0.999878</td>\n",
       "      <td>1</td>\n",
       "      <td>Pepe</td>\n",
       "      <td>None</td>\n",
       "      <td>None</td>\n",
       "    </tr>\n",
       "    <tr>\n",
       "      <th>1</th>\n",
       "      <td>I-PER</td>\n",
       "      <td>0.999776</td>\n",
       "      <td>2</td>\n",
       "      <td>Aut</td>\n",
       "      <td>None</td>\n",
       "      <td>None</td>\n",
       "    </tr>\n",
       "    <tr>\n",
       "      <th>2</th>\n",
       "      <td>I-PER</td>\n",
       "      <td>0.999565</td>\n",
       "      <td>3</td>\n",
       "      <td>##h</td>\n",
       "      <td>None</td>\n",
       "      <td>None</td>\n",
       "    </tr>\n",
       "    <tr>\n",
       "      <th>3</th>\n",
       "      <td>B-ORG</td>\n",
       "      <td>0.999821</td>\n",
       "      <td>8</td>\n",
       "      <td>PP</td>\n",
       "      <td>None</td>\n",
       "      <td>None</td>\n",
       "    </tr>\n",
       "    <tr>\n",
       "      <th>4</th>\n",
       "      <td>I-ORG</td>\n",
       "      <td>0.903553</td>\n",
       "      <td>9</td>\n",
       "      <td>##D</td>\n",
       "      <td>None</td>\n",
       "      <td>None</td>\n",
       "    </tr>\n",
       "  </tbody>\n",
       "</table>\n",
       "</div>"
      ],
      "text/plain": [
       "  entity     score  index  word start   end\n",
       "0  B-PER  0.999878      1  Pepe  None  None\n",
       "1  I-PER  0.999776      2   Aut  None  None\n",
       "2  I-PER  0.999565      3   ##h  None  None\n",
       "3  B-ORG  0.999821      8    PP  None  None\n",
       "4  I-ORG  0.903553      9   ##D  None  None"
      ]
     },
     "execution_count": 11,
     "metadata": {},
     "output_type": "execute_result"
    }
   ],
   "source": [
    "df_ner = nlp_ner(text)\n",
    "pd.DataFrame(df_ner)"
   ]
  },
  {
   "cell_type": "code",
   "execution_count": null,
   "id": "b1dcacad-e6f6-457c-a201-76ab3037a51e",
   "metadata": {},
   "outputs": [],
   "source": []
  },
  {
   "cell_type": "code",
   "execution_count": null,
   "id": "38d52803-f968-479c-8e5d-b1e3f2d25dcb",
   "metadata": {},
   "outputs": [],
   "source": []
  },
  {
   "cell_type": "markdown",
   "id": "6bc51c58-6b5a-4651-9805-71eaeba9618b",
   "metadata": {},
   "source": [
    "### Part of speech\n",
    "\n",
    "https://huggingface.co/mrm8488/bert-spanish-cased-finetuned-pos"
   ]
  },
  {
   "cell_type": "markdown",
   "id": "fbf95c56-17e3-4a3a-b13f-4f133e22d856",
   "metadata": {},
   "source": [
    "Spanish BERT (BETO) + POS <br>\r\n",
    "This model is a fine-tuned on SpanishCoONLL CORPORA version of the Spanish BERT cased (BETO) for POS (Part of Speech tagging) downstream task\n",
    "\n",
    "https://www.kaggle.com/datasets/nltkdata/conll-corpora\n",
    "\n",
    "Al igual que NER, es un task de Token Classification. De hecho, el CoNLL incluye información de NER y POS, asi que puede ser usado para ambas tareas.  ."
   ]
  },
  {
   "attachments": {
    "17839da1-16ef-466f-a306-6d866a1e135e.png": {
     "image/png": "[encoded data removed]"
    }
   },
   "cell_type": "markdown",
   "id": "2da09752-56f4-438e-b703-6b9a2a902ac5",
   "metadata": {},
   "source": [
    "LABELS : AO, AQ, CC, CS, DA, DD, DE, DI, DN, DP, DT, Faa, Fat, Fc, Fd, Fe, Fg, Fh, Fia, Fit, Fp, Fpa, Fpt, Fs, Ft, Fx, Fz, I, NC, NP, P0, PD, PI, PN, PP, PR, PT, PX, RG, RN, SP, VAI, VAM, VAN, VAP, VAS, VMG, VMI, VMM, VMN, VMP, VMS, VSG, VSI, VSM, VSN, VSP, VSS, Y and Z <br>\n",
    "\n",
    "¿Que significan? (ver, por ejemplo https://www.cs.upc.edu/~nlp/IQMT/ulc-0.4.3.manual.pdf)\n",
    "\n",
    "![image.png](attachment:17839da1-16ef-466f-a306-6d866a1e135e.png)\r\n"
   ]
  },
  {
   "cell_type": "code",
   "execution_count": 12,
   "id": "c0446bb6-5a16-4705-bf71-b4e07bc24498",
   "metadata": {},
   "outputs": [
    {
     "name": "stderr",
     "output_type": "stream",
     "text": [
      "Some weights of the model checkpoint at mrm8488/bert-spanish-cased-finetuned-pos were not used when initializing BertForTokenClassification: ['bert.pooler.dense.bias', 'bert.pooler.dense.weight']\n",
      "- This IS expected if you are initializing BertForTokenClassification from the checkpoint of a model trained on another task or with another architecture (e.g. initializing a BertForSequenceClassification model from a BertForPreTraining model).\n",
      "- This IS NOT expected if you are initializing BertForTokenClassification from the checkpoint of a model that you expect to be exactly identical (initializing a BertForSequenceClassification model from a BertForSequenceClassification model).\n"
     ]
    }
   ],
   "source": [
    "nlp_pos = pipeline(\"ner\", model=\"mrm8488/bert-spanish-cased-finetuned-pos\", tokenizer=('mrm8488/bert-spanish-cased-finetuned-pos', {\"use_fast\": False}))\n"
   ]
  },
  {
   "cell_type": "code",
   "execution_count": 13,
   "id": "2ce206af-c496-47cf-8407-f5e85b097174",
   "metadata": {},
   "outputs": [
    {
     "name": "stderr",
     "output_type": "stream",
     "text": [
      "Asking to truncate to max_length but no maximum length is provided and the model has no predefined maximum length. Default to no truncation.\n"
     ]
    },
    {
     "data": {
      "text/html": [
       "<div>\n",
       "<style scoped>\n",
       "    .dataframe tbody tr th:only-of-type {\n",
       "        vertical-align: middle;\n",
       "    }\n",
       "\n",
       "    .dataframe tbody tr th {\n",
       "        vertical-align: top;\n",
       "    }\n",
       "\n",
       "    .dataframe thead th {\n",
       "        text-align: right;\n",
       "    }\n",
       "</style>\n",
       "<table border=\"1\" class=\"dataframe\">\n",
       "  <thead>\n",
       "    <tr style=\"text-align: right;\">\n",
       "      <th></th>\n",
       "      <th>entity</th>\n",
       "      <th>score</th>\n",
       "      <th>index</th>\n",
       "      <th>word</th>\n",
       "      <th>start</th>\n",
       "      <th>end</th>\n",
       "    </tr>\n",
       "  </thead>\n",
       "  <tbody>\n",
       "    <tr>\n",
       "      <th>0</th>\n",
       "      <td>NC</td>\n",
       "      <td>0.995836</td>\n",
       "      <td>1</td>\n",
       "      <td>Pepe</td>\n",
       "      <td>None</td>\n",
       "      <td>None</td>\n",
       "    </tr>\n",
       "    <tr>\n",
       "      <th>1</th>\n",
       "      <td>NC</td>\n",
       "      <td>0.993025</td>\n",
       "      <td>2</td>\n",
       "      <td>Aut</td>\n",
       "      <td>None</td>\n",
       "      <td>None</td>\n",
       "    </tr>\n",
       "    <tr>\n",
       "      <th>2</th>\n",
       "      <td>NC</td>\n",
       "      <td>0.996996</td>\n",
       "      <td>3</td>\n",
       "      <td>##h</td>\n",
       "      <td>None</td>\n",
       "      <td>None</td>\n",
       "    </tr>\n",
       "    <tr>\n",
       "      <th>3</th>\n",
       "      <td>VMI</td>\n",
       "      <td>0.999871</td>\n",
       "      <td>4</td>\n",
       "      <td>solía</td>\n",
       "      <td>None</td>\n",
       "      <td>None</td>\n",
       "    </tr>\n",
       "    <tr>\n",
       "      <th>4</th>\n",
       "      <td>VMN</td>\n",
       "      <td>0.999735</td>\n",
       "      <td>5</td>\n",
       "      <td>perten</td>\n",
       "      <td>None</td>\n",
       "      <td>None</td>\n",
       "    </tr>\n",
       "    <tr>\n",
       "      <th>5</th>\n",
       "      <td>VMN</td>\n",
       "      <td>0.999433</td>\n",
       "      <td>6</td>\n",
       "      <td>##cer</td>\n",
       "      <td>None</td>\n",
       "      <td>None</td>\n",
       "    </tr>\n",
       "    <tr>\n",
       "      <th>6</th>\n",
       "      <td>SP</td>\n",
       "      <td>0.999919</td>\n",
       "      <td>7</td>\n",
       "      <td>al</td>\n",
       "      <td>None</td>\n",
       "      <td>None</td>\n",
       "    </tr>\n",
       "    <tr>\n",
       "      <th>7</th>\n",
       "      <td>NC</td>\n",
       "      <td>0.999943</td>\n",
       "      <td>8</td>\n",
       "      <td>PP</td>\n",
       "      <td>None</td>\n",
       "      <td>None</td>\n",
       "    </tr>\n",
       "    <tr>\n",
       "      <th>8</th>\n",
       "      <td>NC</td>\n",
       "      <td>0.999559</td>\n",
       "      <td>9</td>\n",
       "      <td>##D</td>\n",
       "      <td>None</td>\n",
       "      <td>None</td>\n",
       "    </tr>\n",
       "    <tr>\n",
       "      <th>9</th>\n",
       "      <td>Fc</td>\n",
       "      <td>0.999920</td>\n",
       "      <td>10</td>\n",
       "      <td>,</td>\n",
       "      <td>None</td>\n",
       "      <td>None</td>\n",
       "    </tr>\n",
       "    <tr>\n",
       "      <th>10</th>\n",
       "      <td>CC</td>\n",
       "      <td>0.999785</td>\n",
       "      <td>11</td>\n",
       "      <td>pero</td>\n",
       "      <td>None</td>\n",
       "      <td>None</td>\n",
       "    </tr>\n",
       "    <tr>\n",
       "      <th>11</th>\n",
       "      <td>RG</td>\n",
       "      <td>0.999784</td>\n",
       "      <td>12</td>\n",
       "      <td>ya</td>\n",
       "      <td>None</td>\n",
       "      <td>None</td>\n",
       "    </tr>\n",
       "    <tr>\n",
       "      <th>12</th>\n",
       "      <td>RN</td>\n",
       "      <td>0.999689</td>\n",
       "      <td>13</td>\n",
       "      <td>no</td>\n",
       "      <td>None</td>\n",
       "      <td>None</td>\n",
       "    </tr>\n",
       "    <tr>\n",
       "      <th>13</th>\n",
       "      <td>Fp</td>\n",
       "      <td>0.999923</td>\n",
       "      <td>14</td>\n",
       "      <td>.</td>\n",
       "      <td>None</td>\n",
       "      <td>None</td>\n",
       "    </tr>\n",
       "  </tbody>\n",
       "</table>\n",
       "</div>"
      ],
      "text/plain": [
       "   entity     score  index    word start   end\n",
       "0      NC  0.995836      1    Pepe  None  None\n",
       "1      NC  0.993025      2     Aut  None  None\n",
       "2      NC  0.996996      3     ##h  None  None\n",
       "3     VMI  0.999871      4   solía  None  None\n",
       "4     VMN  0.999735      5  perten  None  None\n",
       "5     VMN  0.999433      6   ##cer  None  None\n",
       "6      SP  0.999919      7      al  None  None\n",
       "7      NC  0.999943      8      PP  None  None\n",
       "8      NC  0.999559      9     ##D  None  None\n",
       "9      Fc  0.999920     10       ,  None  None\n",
       "10     CC  0.999785     11    pero  None  None\n",
       "11     RG  0.999784     12      ya  None  None\n",
       "12     RN  0.999689     13      no  None  None\n",
       "13     Fp  0.999923     14       .  None  None"
      ]
     },
     "execution_count": 13,
     "metadata": {},
     "output_type": "execute_result"
    }
   ],
   "source": [
    "pd.DataFrame(nlp_pos(text))"
   ]
  },
  {
   "cell_type": "code",
   "execution_count": null,
   "id": "504f35c5-3655-450b-81f8-7f03e0a7e632",
   "metadata": {},
   "outputs": [],
   "source": []
  },
  {
   "cell_type": "markdown",
   "id": "0312b722-b90d-4615-86fb-cea22a89aa2c",
   "metadata": {},
   "source": [
    "### Q & A"
   ]
  },
  {
   "cell_type": "markdown",
   "id": "59e3eca1-0167-4cb4-a252-4180d2f4e406",
   "metadata": {},
   "source": [
    "BETO (Spanish BERT) + Spanish SQuAD2.0 + distillation using 'bert-base-multilingual-cased' as teacher\n",
    "\n",
    "This model is a fine-tuned on SQuAD-es-v2.0 and distilled version of BETO for Q&A.\n",
    "\n"
   ]
  },
  {
   "cell_type": "code",
   "execution_count": null,
   "id": "06dfe2bf-b74b-4973-8b7d-4ab621530017",
   "metadata": {},
   "outputs": [],
   "source": []
  },
  {
   "cell_type": "code",
   "execution_count": 14,
   "id": "e90316d5-f4e7-4e1e-bb98-ddbd497a2993",
   "metadata": {},
   "outputs": [
    {
     "name": "stderr",
     "output_type": "stream",
     "text": [
      "Some weights of the model checkpoint at mrm8488/distill-bert-base-spanish-wwm-cased-finetuned-spa-squad2-es were not used when initializing BertForQuestionAnswering: ['bert.pooler.dense.bias', 'bert.pooler.dense.weight']\n",
      "- This IS expected if you are initializing BertForQuestionAnswering from the checkpoint of a model trained on another task or with another architecture (e.g. initializing a BertForSequenceClassification model from a BertForPreTraining model).\n",
      "- This IS NOT expected if you are initializing BertForQuestionAnswering from the checkpoint of a model that you expect to be exactly identical (initializing a BertForSequenceClassification model from a BertForSequenceClassification model).\n"
     ]
    }
   ],
   "source": [
    "nlp = pipeline('question-answering', model='mrm8488/distill-bert-base-spanish-wwm-cased-finetuned-spa-squad2-es', tokenizer=('mrm8488/distill-bert-base-spanish-wwm-cased-finetuned-spa-squad2-es',  {\"use_fast\": False}))"
   ]
  },
  {
   "cell_type": "code",
   "execution_count": 15,
   "id": "4cf93505-2950-493f-8b8b-5b0bdff47155",
   "metadata": {},
   "outputs": [],
   "source": [
    "context = 'Manuel Romero está colaborando activamente con huggingface/transformers para traer el poder de las últimas técnicas de procesamiento de lenguaje natural al idioma español'"
   ]
  },
  {
   "cell_type": "code",
   "execution_count": 16,
   "id": "796126b8-9fb6-41d3-86f8-13fcbba9d4b3",
   "metadata": {},
   "outputs": [
    {
     "data": {
      "text/plain": [
       "'Manuel Romero está colaborando activamente con huggingface/transformers para traer el poder de las últimas técnicas de procesamiento de lenguaje natural al idioma español'"
      ]
     },
     "execution_count": 16,
     "metadata": {},
     "output_type": "execute_result"
    }
   ],
   "source": [
    "context"
   ]
  },
  {
   "cell_type": "code",
   "execution_count": 17,
   "id": "447e35a5-7577-4668-81ab-9b06c6e7e56e",
   "metadata": {},
   "outputs": [
    {
     "data": {
      "text/plain": [
       "{'score': 0.9647331237792969, 'start': 0, 'end': 13, 'answer': 'Manuel Romero'}"
      ]
     },
     "execution_count": 17,
     "metadata": {},
     "output_type": "execute_result"
    }
   ],
   "source": [
    "nlp({'question': '¿Quién está trabajando activamente con huggingface/transformer? ', 'context': context })"
   ]
  },
  {
   "cell_type": "code",
   "execution_count": 18,
   "id": "b5e7ec4f-03bc-4c8c-8ad0-0cb964b7a286",
   "metadata": {},
   "outputs": [
    {
     "data": {
      "text/plain": [
       "{'score': 0.9469614624977112, 'start': 163, 'end': 169, 'answer': 'español'}"
      ]
     },
     "execution_count": 18,
     "metadata": {},
     "output_type": "execute_result"
    }
   ],
   "source": [
    "nlp({'question': '¿Para qué lenguaje está trabajando?', 'context': context })"
   ]
  },
  {
   "cell_type": "code",
   "execution_count": 19,
   "id": "8ed5347e-98b7-4e2f-b7b9-8a9ace5e13ff",
   "metadata": {},
   "outputs": [
    {
     "data": {
      "text/plain": [
       "{'score': 0.5579958558082581,\n",
       " 'start': 47,\n",
       " 'end': 71,\n",
       " 'answer': 'huggingface/transformers'}"
      ]
     },
     "execution_count": 19,
     "metadata": {},
     "output_type": "execute_result"
    }
   ],
   "source": [
    "nlp({'question': '¿Para qué empresa?','context': context})"
   ]
  },
  {
   "cell_type": "code",
   "execution_count": 20,
   "id": "41367dd5-5514-413d-92b5-a00fcc19f6ff",
   "metadata": {},
   "outputs": [
    {
     "data": {
      "text/plain": [
       "{'score': 0.2152889370918274, 'start': 156, 'end': 162, 'answer': 'idioma'}"
      ]
     },
     "execution_count": 20,
     "metadata": {},
     "output_type": "execute_result"
    }
   ],
   "source": [
    "nlp({'question': '¿Qué fecha es hoy?','context': context})"
   ]
  },
  {
   "cell_type": "code",
   "execution_count": null,
   "id": "2304b5a7-2922-4281-be20-dfa4eec85bc1",
   "metadata": {},
   "outputs": [],
   "source": []
  },
  {
   "cell_type": "markdown",
   "id": "99cd40bf-e4dc-4edf-8c5f-d9840165cb77",
   "metadata": {},
   "source": [
    "### Text-summarization\n",
    "\n",
    "https://huggingface.co/mrm8488/bert2bert_shared-spanish-finetuned-summarization"
   ]
  },
  {
   "cell_type": "code",
   "execution_count": 21,
   "id": "9c633eb1-b4e1-42f5-9804-e057f77d91e8",
   "metadata": {},
   "outputs": [],
   "source": [
    "from nltk import word_tokenize"
   ]
  },
  {
   "cell_type": "code",
   "execution_count": 22,
   "id": "bd2840ec-4481-4ad8-89db-d6cec2bb3bd5",
   "metadata": {},
   "outputs": [
    {
     "name": "stderr",
     "output_type": "stream",
     "text": [
      "The following encoder weights were not tied to the decoder ['bert/pooler']\n",
      "The following encoder weights were not tied to the decoder ['bert/pooler']\n",
      "The following encoder weights were not tied to the decoder ['bert/pooler']\n",
      "The following encoder weights were not tied to the decoder ['bert/pooler']\n"
     ]
    }
   ],
   "source": [
    "import torch\n",
    "from transformers import BertTokenizerFast, EncoderDecoderModel\n",
    "device = 'cuda' if torch.cuda.is_available() else 'cpu'\n",
    "ckpt = 'mrm8488/bert2bert_shared-spanish-finetuned-summarization'\n",
    "tokenizer = BertTokenizerFast.from_pretrained(ckpt)\n",
    "model = EncoderDecoderModel.from_pretrained(ckpt).to(device)\n",
    "\n",
    "def generate_summary(text):\n",
    "\n",
    "   inputs = tokenizer([text], padding=\"max_length\", truncation=True, max_length=512, return_tensors=\"pt\")\n",
    "   input_ids = inputs.input_ids.to(device)\n",
    "   attention_mask = inputs.attention_mask.to(device)\n",
    "   output = model.generate(input_ids, attention_mask=attention_mask)\n",
    "   return tokenizer.decode(output[0], skip_special_tokens=True)\n"
   ]
  },
  {
   "cell_type": "code",
   "execution_count": 23,
   "id": "21237064-9bac-4203-a182-aafc90f10348",
   "metadata": {},
   "outputs": [
    {
     "data": {
      "text/plain": [
       "391"
      ]
     },
     "execution_count": 23,
     "metadata": {},
     "output_type": "execute_result"
    }
   ],
   "source": [
    "text = \"La nueva ola de la investigación del análisis del lenguaje, la podemos situar a partir de los últimos años del siglo pasado siendo fundamental el trabajo pionero de James W. Pennebaker y sus colaboradores. En particular, la línea de investigación de Pennebaker estaba orientada a la aplicación del análisis de lenguaje natural a la explicación de la conducta verbal o dicho de manera más general, a desentrañar la manera en que el comportamiento verbal refleja la psicología de una persona (Boyd, R. L., & Schwartz, H. A. 2021). El “paradigma Pennebaker” se basó en un principio simple: las frecuencias de las palabras representan hábitos de atención (Tauszik y Pennebaker, 2010). Es decir, las palabras que usamos en la vida diaria reflejan la atención que prestamos a nuestro entorno. Boyd & Schwartz (2021) sostienen que no cuestionar el modelo de análisis del lenguaje basado en el paradigma “words as attention”, implica no hacer el debido esfuerzo por comprender, en rigor, de qué manera el comportamiento verbal refleja la psicología de una persona. El problema descrito para el referido modelo de análisis de lenguaje es hasta cierto punto equivale, al punto de vista que sostiene -en el contexto de una bien conocida controversia de la psicología de la personalidad-, que gran parte de la investigación del análisis del lenguaje es meramente descriptiva de los fenómenos psicológicos, sin lograr explicarlos (ver, por ejemplo, McCrae y Costa, 1995). Boyd & Schwartz (2021) sugieren al respecto, adoptar una visión más amplia de los datos conductuales verbales, que excediendo las posibilidades del enfoque de atención, nos permita comprender mejor cómo operan los procesos psicológicos. El objetivo es superar una interpretación literal y unidimensional como 'la gente enojada usa más palabras de enojo' para la relación entre ‘palabras’ e ‘ira’, y volver a una comprensión más intuitiva para el análisis del lenguaje, que capitalice su complejidad intrínseca y sus matices. A juicio de Boyd y Schwartz (2021) hay varias razones por las que el campo debe expandirse más allá de las 'palabras como atención' \"\n",
    "len(word_tokenize(text))"
   ]
  },
  {
   "cell_type": "code",
   "execution_count": 24,
   "id": "7a0d91bd-bd7d-4c18-b48b-43543c9852b6",
   "metadata": {},
   "outputs": [
    {
     "data": {
      "text/plain": [
       "\"La nueva ola de la investigación del análisis del lenguaje, la podemos situar a partir de los últimos años del siglo pasado siendo fundamental el trabajo pionero de James W. Pennebaker y sus colaboradores. En particular, la línea de investigación de Pennebaker estaba orientada a la aplicación del análisis de lenguaje natural a la explicación de la conducta verbal o dicho de manera más general, a desentrañar la manera en que el comportamiento verbal refleja la psicología de una persona (Boyd, R. L., & Schwartz, H. A. 2021). El “paradigma Pennebaker” se basó en un principio simple: las frecuencias de las palabras representan hábitos de atención (Tauszik y Pennebaker, 2010). Es decir, las palabras que usamos en la vida diaria reflejan la atención que prestamos a nuestro entorno. Boyd & Schwartz (2021) sostienen que no cuestionar el modelo de análisis del lenguaje basado en el paradigma “words as attention”, implica no hacer el debido esfuerzo por comprender, en rigor, de qué manera el comportamiento verbal refleja la psicología de una persona. El problema descrito para el referido modelo de análisis de lenguaje es hasta cierto punto equivale, al punto de vista que sostiene -en el contexto de una bien conocida controversia de la psicología de la personalidad-, que gran parte de la investigación del análisis del lenguaje es meramente descriptiva de los fenómenos psicológicos, sin lograr explicarlos (ver, por ejemplo, McCrae y Costa, 1995). Boyd & Schwartz (2021) sugieren al respecto, adoptar una visión más amplia de los datos conductuales verbales, que excediendo las posibilidades del enfoque de atención, nos permita comprender mejor cómo operan los procesos psicológicos. El objetivo es superar una interpretación literal y unidimensional como 'la gente enojada usa más palabras de enojo' para la relación entre ‘palabras’ e ‘ira’, y volver a una comprensión más intuitiva para el análisis del lenguaje, que capitalice su complejidad intrínseca y sus matices. A juicio de Boyd y Schwartz (2021) hay varias razones por las que el campo debe expandirse más allá de las 'palabras como atención' \""
      ]
     },
     "execution_count": 24,
     "metadata": {},
     "output_type": "execute_result"
    }
   ],
   "source": [
    "text"
   ]
  },
  {
   "cell_type": "code",
   "execution_count": 25,
   "id": "bbd18719-6dd9-4240-920e-5e9a728ee0f2",
   "metadata": {},
   "outputs": [
    {
     "data": {
      "text/plain": [
       "'La nueva ola de la investigación del análisis del lenguaje es necesaria para comprender mejor cómo funcionan los procesos psicológicos'"
      ]
     },
     "execution_count": 25,
     "metadata": {},
     "output_type": "execute_result"
    }
   ],
   "source": [
    "generate_summary(text)"
   ]
  },
  {
   "cell_type": "markdown",
   "id": "13325749-afd4-4129-8c61-c4caf4e31845",
   "metadata": {},
   "source": [
    "### Text Classification\n",
    "\n",
    "https://huggingface.co/Recognai/bert-base-spanish-wwm-cased-xnli"
   ]
  },
  {
   "cell_type": "code",
   "execution_count": 26,
   "id": "841c3490-7a5c-4efc-a833-4758eeb39406",
   "metadata": {},
   "outputs": [],
   "source": [
    "from transformers import pipeline\n",
    "classifier = pipeline(\"zero-shot-classification\", \n",
    "                       model=\"Recognai/bert-base-spanish-wwm-cased-xnli\")\n"
   ]
  },
  {
   "cell_type": "code",
   "execution_count": 27,
   "id": "7dafb067-80a4-4916-93b8-5e988e8ea2af",
   "metadata": {},
   "outputs": [
    {
     "data": {
      "text/plain": [
       "{'sequence': 'El autor se perfila, a los 50 años de su muerte, como uno de los grandes de su siglo',\n",
       " 'labels': ['cultura', 'economia', 'sociedad', 'deportes', 'salud'],\n",
       " 'scores': [0.3393172025680542,\n",
       "  0.06791821122169495,\n",
       "  0.05706039443612099,\n",
       "  0.03568994626402855,\n",
       "  0.007260036189109087]}"
      ]
     },
     "execution_count": 27,
     "metadata": {},
     "output_type": "execute_result"
    }
   ],
   "source": [
    "classifier(    \"El autor se perfila, a los 50 años de su muerte, como uno de los grandes de su siglo\",\n",
    "    candidate_labels=[\"cultura\", \"sociedad\", \"economia\", \"salud\", \"deportes\"], hypothesis_template=\"Este ejemplo es {}.\",multi_label=True)"
   ]
  },
  {
   "cell_type": "code",
   "execution_count": null,
   "id": "f75b25c0-1990-4e79-aa05-2ebd9df29e4b",
   "metadata": {},
   "outputs": [],
   "source": []
  },
  {
   "cell_type": "code",
   "execution_count": null,
   "id": "01ea8cd8-e800-4c76-b94b-3445554ea11b",
   "metadata": {},
   "outputs": [],
   "source": []
  }
 ],
 "metadata": {
  "kernelspec": {
   "display_name": "Python 3 (ipykernel)",
   "language": "python",
   "name": "python3"
  },
  "language_info": {
   "codemirror_mode": {
    "name": "ipython",
    "version": 3
   },
   "file_extension": ".py",
   "mimetype": "text/x-python",
   "name": "python",
   "nbconvert_exporter": "python",
   "pygments_lexer": "ipython3",
   "version": "3.11.13"
  }
 },
 "nbformat": 4,
 "nbformat_minor": 5
}
