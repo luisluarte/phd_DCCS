{
 "cells": [
  {
   "cell_type": "code",
   "execution_count": 1,
   "id": "8e836871",
   "metadata": {},
   "outputs": [],
   "source": [
    "import os\n",
    "import matplotlib.pyplot as plt\n",
    "%matplotlib inline\n",
    "import pandas as pd\n",
    "import numpy as np\n",
    "import math\n",
    "import nltk\n",
    "import string\n",
    "\n",
    "remove_punct_map = dict.fromkeys(map(ord, string.punctuation))\n",
    "pd.set_option('display.max_rows',1000)\n",
    "pd.set_option('display.max_columns',1000)\n",
    "from itertools import compress\n",
    "from nltk import word_tokenize\n",
    "import re"
   ]
  },
  {
   "cell_type": "code",
   "execution_count": 2,
   "id": "5a39e99c",
   "metadata": {},
   "outputs": [],
   "source": [
    "# !pip install -U transformers\n",
    "#!pip install -U accelerate\n",
    "\n",
    "#!pip install datasets\n",
    "#!pip install evaluate"
   ]
  },
  {
   "cell_type": "markdown",
   "id": "dd7ec843-2d82-4636-8a27-e260d4dcde9c",
   "metadata": {},
   "source": [
    "### Creando base de datos de sentimientos\n",
    "\n",
    "https://github.com/garnachod/TwitterSentimentDataset"
   ]
  },
  {
   "cell_type": "code",
   "execution_count": 3,
   "id": "273bb669-2b2e-43f1-afed-f3a2c5da62a7",
   "metadata": {},
   "outputs": [],
   "source": [
    "neu = pd.read_csv(\"TwitterSentimentDataset/tweets_clean.txt\", sep=\"\\t\",header=None, names=[\"frase\"])\n",
    "neu['label'] = 0"
   ]
  },
  {
   "cell_type": "code",
   "execution_count": 4,
   "id": "12125abd-53ae-4187-ae5d-a6a173d7c28a",
   "metadata": {},
   "outputs": [
    {
     "data": {
      "text/plain": [
       "(70194, 2)"
      ]
     },
     "execution_count": 4,
     "metadata": {},
     "output_type": "execute_result"
    }
   ],
   "source": [
    "neu.shape"
   ]
  },
  {
   "cell_type": "code",
   "execution_count": 5,
   "id": "4883acd7-aeb8-4649-911e-a047cbc656a2",
   "metadata": {},
   "outputs": [
    {
     "data": {
      "text/plain": [
       "['hoy decido ser feliz y no andar dándole importancia a pendejadas!  para eso no se hizo la vida, tengan un bonito domingo! :D',\n",
       " 'Los creadores de Torchlight presentan Hob, una aventura de acción y puzles para PC y consolas http://t.co/XIbgYyBJof',\n",
       " '@HdLG94 por algo en particular o el también lo lleva sospechando de hace tiempo?',\n",
       " '@AdvyStyles Guitaaaar llevo días pidiéndote esto D: Juega este Demon pls 10875730 Lo hice con mucho esfuerzo :D',\n",
       " '#PreguntaPisito #AlexbyManco Aprende a jugar ?:D',\n",
       " 'Ahora mismo @Irene_Montero_ en @noticias_cuatro en el especial #GreciaSeLaJuegaN4',\n",
       " 'Jajaja :p',\n",
       " 'Holu seguir is te sigo soi nueva :D https://t.co/7cmPJqvvZK',\n",
       " '@Cernizo Profe profe que se está copiando',\n",
       " 'Exigimos la renovación del sistema de financiación autonómica y un reparto más equilibrado de los objetivos de déficit @sanchezcastejon']"
      ]
     },
     "execution_count": 5,
     "metadata": {},
     "output_type": "execute_result"
    }
   ],
   "source": [
    "neu.sample(10).frase.tolist()"
   ]
  },
  {
   "cell_type": "code",
   "execution_count": 6,
   "id": "cdae382c-48d7-456f-b818-2be02df2f99e",
   "metadata": {},
   "outputs": [],
   "source": [
    "neg = pd.read_csv(\"TwitterSentimentDataset/tweets_neg_clean.txt\", sep=\"\\t\",header=None, names=[\"frase\"])\n",
    "neg['label'] = 1"
   ]
  },
  {
   "cell_type": "code",
   "execution_count": 7,
   "id": "aa661e82-c685-4477-a773-e143ab6ab86e",
   "metadata": {},
   "outputs": [
    {
     "data": {
      "text/plain": [
       "(120948, 2)"
      ]
     },
     "execution_count": 7,
     "metadata": {},
     "output_type": "execute_result"
    }
   ],
   "source": [
    "neg.shape"
   ]
  },
  {
   "cell_type": "code",
   "execution_count": 8,
   "id": "db4999dd-da7b-4f41-aee6-37a46377e334",
   "metadata": {},
   "outputs": [
    {
     "data": {
      "text/plain": [
       "['Si me lo dice ella,  si importante :(',\n",
       " 'opioo la extraño :( #okno :3',\n",
       " 'ya me urge escáparme al D.F. en septiembre, necesito cambiar de aires unos días :(',\n",
       " 'Y es todo tan dificil , y toda cuesta tanto #cabezaamil #quierolodeantes :( •',\n",
       " '@TheTideDrea @ashswonderwall ya hija ya, es el puto cody que va en esas fechas :(( pero lo bueno es que me quedo una semana por ahí :p',\n",
       " 'de Delta me mandaron a comer al Gatsby e increíblemente la comida era lo bueno y los postres todos malos y añejos :(',\n",
       " 'Quiero a mi novio conmigo :(',\n",
       " '@LaddySally Antes hemos estado invitando a uno pero no le gustaba la idea que teníamos planeada para él :(',\n",
       " 'Como cuando te quieres tatuar pero no tienes un buen lienzo jajajajajajajajajaajqjqjjq ay :(',\n",
       " 'se me re pasparon los labios del frio hoy :(']"
      ]
     },
     "execution_count": 8,
     "metadata": {},
     "output_type": "execute_result"
    }
   ],
   "source": [
    "neg.sample(10).frase.tolist()"
   ]
  },
  {
   "cell_type": "code",
   "execution_count": 9,
   "id": "9d574fa3-362a-4d0b-99b0-ead400cb2b27",
   "metadata": {},
   "outputs": [],
   "source": [
    "pos = pd.read_csv(\"TwitterSentimentDataset/tweets_pos_clean.txt\", sep=\"\\t\",header=None, names=[\"frase\"])\n",
    "pos['label'] = 2"
   ]
  },
  {
   "cell_type": "code",
   "execution_count": 10,
   "id": "79556548-e902-407b-b730-48d7c505e3c1",
   "metadata": {},
   "outputs": [
    {
     "data": {
      "text/plain": [
       "(55056, 2)"
      ]
     },
     "execution_count": 10,
     "metadata": {},
     "output_type": "execute_result"
    }
   ],
   "source": [
    "pos.shape"
   ]
  },
  {
   "cell_type": "code",
   "execution_count": 11,
   "id": "aef8f50a-b6ad-4b77-8798-80e284af539e",
   "metadata": {},
   "outputs": [
    {
     "data": {
      "text/plain": [
       "['Domingo de Paz... #picadita #Asado #Campo #familiaa #Cuñaditoo. :)',\n",
       " '@caromiyares estamos creando un listado de salas y garitos donde paguen a los músicos, nos ayudas con un RT? :) http://t.co/UcqIigCDbQ',\n",
       " 'Ahora si ! NUNCA MÁS :)',\n",
       " '@maxekampos era bueno el juego de palabras pero lamentablemente esta vez no aplicó ;)',\n",
       " '@ExtasisTextual Gracias por seguirme, en breve te devuelvo follow :) #TuitUtil http://t.co/wyrm2Ck0sR',\n",
       " '@JamesTaiss Gracias por seguirme, en breve te devuelvo follow :) #TuitUtil http://t.co/RnR1hpgjFn',\n",
       " '@dmarquina ya mandaré fotillos. :)',\n",
       " '@RHPlusConsultor @CarlitaAlboran @MyrnaBarajas Buenas :), Quieres ser único en tu regalo, desayunos a domicilio http://t.co/OO7vuR4kRo',\n",
       " '@natipaesky Hola, estoy participando de un concurso con una foto de MIRAMAR. Me ayudas con un MG? :) https://t.co/sX97RTq0DM',\n",
       " '@Daniela_PerezM jajaja de nada :)']"
      ]
     },
     "execution_count": 11,
     "metadata": {},
     "output_type": "execute_result"
    }
   ],
   "source": [
    "pos.sample(10).frase.tolist()"
   ]
  },
  {
   "cell_type": "code",
   "execution_count": 12,
   "id": "c2a6e8fc-0dd8-4036-a464-67c722821499",
   "metadata": {},
   "outputs": [],
   "source": [
    "sent = pd.concat([pos.sample(500),neg.sample(500),neu.sample(500)])"
   ]
  },
  {
   "cell_type": "code",
   "execution_count": 13,
   "id": "51a10ae7-d768-48be-913d-0224dcd2b06e",
   "metadata": {},
   "outputs": [
    {
     "data": {
      "text/html": [
       "<div>\n",
       "<style scoped>\n",
       "    .dataframe tbody tr th:only-of-type {\n",
       "        vertical-align: middle;\n",
       "    }\n",
       "\n",
       "    .dataframe tbody tr th {\n",
       "        vertical-align: top;\n",
       "    }\n",
       "\n",
       "    .dataframe thead th {\n",
       "        text-align: right;\n",
       "    }\n",
       "</style>\n",
       "<table border=\"1\" class=\"dataframe\">\n",
       "  <thead>\n",
       "    <tr style=\"text-align: right;\">\n",
       "      <th></th>\n",
       "      <th>frase</th>\n",
       "      <th>label</th>\n",
       "    </tr>\n",
       "  </thead>\n",
       "  <tbody>\n",
       "    <tr>\n",
       "      <th>7867</th>\n",
       "      <td>Amén :) http://t.co/DtqheyTxXW</td>\n",
       "      <td>2</td>\n",
       "    </tr>\n",
       "    <tr>\n",
       "      <th>51008</th>\n",
       "      <td>¡Ya podéis visitar la web de @InframundoEdit e...</td>\n",
       "      <td>2</td>\n",
       "    </tr>\n",
       "    <tr>\n",
       "      <th>18094</th>\n",
       "      <td>Con postre de chocolate y vino... :) http://t....</td>\n",
       "      <td>2</td>\n",
       "    </tr>\n",
       "    <tr>\n",
       "      <th>12656</th>\n",
       "      <td>El Me Dice Ke Me Ama.. i Me Lo Demuetra CoN Ec...</td>\n",
       "      <td>2</td>\n",
       "    </tr>\n",
       "    <tr>\n",
       "      <th>34481</th>\n",
       "      <td>Llegar a casa y encontrar estas joyas en la pu...</td>\n",
       "      <td>2</td>\n",
       "    </tr>\n",
       "    <tr>\n",
       "      <th>...</th>\n",
       "      <td>...</td>\n",
       "      <td>...</td>\n",
       "    </tr>\n",
       "    <tr>\n",
       "      <th>58869</th>\n",
       "      <td>¿Te han preguntado alguna vez cómo ir a las el...</td>\n",
       "      <td>0</td>\n",
       "    </tr>\n",
       "    <tr>\n",
       "      <th>15287</th>\n",
       "      <td>@Cami_Sediari Me haces un favor? Podés leer el...</td>\n",
       "      <td>0</td>\n",
       "    </tr>\n",
       "    <tr>\n",
       "      <th>44032</th>\n",
       "      <td>Juego de maquillar a Clawdeen de Monster High:...</td>\n",
       "      <td>0</td>\n",
       "    </tr>\n",
       "    <tr>\n",
       "      <th>38689</th>\n",
       "      <td>Qué pasará, qué misterios habrá, puede ser mi ...</td>\n",
       "      <td>0</td>\n",
       "    </tr>\n",
       "    <tr>\n",
       "      <th>57287</th>\n",
       "      <td>@Criaturitah_LOL Además soy muy amigable y no ...</td>\n",
       "      <td>0</td>\n",
       "    </tr>\n",
       "  </tbody>\n",
       "</table>\n",
       "<p>1500 rows × 2 columns</p>\n",
       "</div>"
      ],
      "text/plain": [
       "                                                   frase  label\n",
       "7867                      Amén :) http://t.co/DtqheyTxXW      2\n",
       "51008  ¡Ya podéis visitar la web de @InframundoEdit e...      2\n",
       "18094  Con postre de chocolate y vino... :) http://t....      2\n",
       "12656  El Me Dice Ke Me Ama.. i Me Lo Demuetra CoN Ec...      2\n",
       "34481  Llegar a casa y encontrar estas joyas en la pu...      2\n",
       "...                                                  ...    ...\n",
       "58869  ¿Te han preguntado alguna vez cómo ir a las el...      0\n",
       "15287  @Cami_Sediari Me haces un favor? Podés leer el...      0\n",
       "44032  Juego de maquillar a Clawdeen de Monster High:...      0\n",
       "38689  Qué pasará, qué misterios habrá, puede ser mi ...      0\n",
       "57287  @Criaturitah_LOL Además soy muy amigable y no ...      0\n",
       "\n",
       "[1500 rows x 2 columns]"
      ]
     },
     "execution_count": 13,
     "metadata": {},
     "output_type": "execute_result"
    }
   ],
   "source": [
    "sent"
   ]
  },
  {
   "cell_type": "code",
   "execution_count": 14,
   "id": "1687d211-b2b7-47b0-8107-c4b921341658",
   "metadata": {},
   "outputs": [],
   "source": [
    "from sklearn.model_selection import train_test_split\n",
    "train, test = train_test_split(sent, random_state=42, test_size=0.25)"
   ]
  },
  {
   "cell_type": "code",
   "execution_count": 15,
   "id": "f74b7c39-20e1-4717-b369-0a98c73e22bc",
   "metadata": {},
   "outputs": [
    {
     "data": {
      "text/plain": [
       "(1125, 2)"
      ]
     },
     "execution_count": 15,
     "metadata": {},
     "output_type": "execute_result"
    }
   ],
   "source": [
    "train.shape"
   ]
  },
  {
   "cell_type": "code",
   "execution_count": 16,
   "id": "8a889443-585f-480f-8c9a-464c4331599b",
   "metadata": {},
   "outputs": [
    {
     "data": {
      "text/html": [
       "<div>\n",
       "<style scoped>\n",
       "    .dataframe tbody tr th:only-of-type {\n",
       "        vertical-align: middle;\n",
       "    }\n",
       "\n",
       "    .dataframe tbody tr th {\n",
       "        vertical-align: top;\n",
       "    }\n",
       "\n",
       "    .dataframe thead th {\n",
       "        text-align: right;\n",
       "    }\n",
       "</style>\n",
       "<table border=\"1\" class=\"dataframe\">\n",
       "  <thead>\n",
       "    <tr style=\"text-align: right;\">\n",
       "      <th></th>\n",
       "      <th>frase</th>\n",
       "      <th>label</th>\n",
       "    </tr>\n",
       "  </thead>\n",
       "  <tbody>\n",
       "    <tr>\n",
       "      <th>60071</th>\n",
       "      <td>.@Rafa_Hernando: \"El PP sitúa a las personas e...</td>\n",
       "      <td>0</td>\n",
       "    </tr>\n",
       "    <tr>\n",
       "      <th>113298</th>\n",
       "      <td>@Malaspinitasgh somos dos! Era increíble escuc...</td>\n",
       "      <td>1</td>\n",
       "    </tr>\n",
       "    <tr>\n",
       "      <th>79429</th>\n",
       "      <td>No tengo crushes como desde hace 5 meses, por ...</td>\n",
       "      <td>1</td>\n",
       "    </tr>\n",
       "    <tr>\n",
       "      <th>17175</th>\n",
       "      <td>#QuiénNoHaGritado Ahora no, Ma!</td>\n",
       "      <td>0</td>\n",
       "    </tr>\n",
       "    <tr>\n",
       "      <th>45782</th>\n",
       "      <td>@JosephinSkrver Yo mucho mucho mucho más :(</td>\n",
       "      <td>1</td>\n",
       "    </tr>\n",
       "    <tr>\n",
       "      <th>17661</th>\n",
       "      <td>Mi mama postiza miri se la juega mañana :D</td>\n",
       "      <td>0</td>\n",
       "    </tr>\n",
       "    <tr>\n",
       "      <th>53793</th>\n",
       "      <td>Comenzamos muy bien el domingo :) #TacosJalisc...</td>\n",
       "      <td>2</td>\n",
       "    </tr>\n",
       "    <tr>\n",
       "      <th>31288</th>\n",
       "      <td>Me ha gustado un vídeo de @YouTube de @brooxix...</td>\n",
       "      <td>0</td>\n",
       "    </tr>\n",
       "    <tr>\n",
       "      <th>50569</th>\n",
       "      <td>@combatearg LLOROO :-(:-(:'(:'(:'(</td>\n",
       "      <td>1</td>\n",
       "    </tr>\n",
       "    <tr>\n",
       "      <th>65501</th>\n",
       "      <td>@PedroPepa_ no puedo :( tuve que dejar morir e...</td>\n",
       "      <td>1</td>\n",
       "    </tr>\n",
       "  </tbody>\n",
       "</table>\n",
       "</div>"
      ],
      "text/plain": [
       "                                                    frase  label\n",
       "60071   .@Rafa_Hernando: \"El PP sitúa a las personas e...      0\n",
       "113298  @Malaspinitasgh somos dos! Era increíble escuc...      1\n",
       "79429   No tengo crushes como desde hace 5 meses, por ...      1\n",
       "17175                     #QuiénNoHaGritado Ahora no, Ma!      0\n",
       "45782         @JosephinSkrver Yo mucho mucho mucho más :(      1\n",
       "17661          Mi mama postiza miri se la juega mañana :D      0\n",
       "53793   Comenzamos muy bien el domingo :) #TacosJalisc...      2\n",
       "31288   Me ha gustado un vídeo de @YouTube de @brooxix...      0\n",
       "50569                  @combatearg LLOROO :-(:-(:'(:'(:'(      1\n",
       "65501   @PedroPepa_ no puedo :( tuve que dejar morir e...      1"
      ]
     },
     "execution_count": 16,
     "metadata": {},
     "output_type": "execute_result"
    }
   ],
   "source": [
    "train.sample(10)"
   ]
  },
  {
   "cell_type": "markdown",
   "id": "553847ad-4f2b-44f0-98b9-dc744040db49",
   "metadata": {},
   "source": [
    "Finalmente, vamos a eliminar las caritas tristes y felices. De no hacerlo, pasan cosas curiosas..."
   ]
  },
  {
   "cell_type": "code",
   "execution_count": 17,
   "id": "76831229-3afc-4d61-ab1d-63e198670277",
   "metadata": {},
   "outputs": [],
   "source": [
    "train['frase'] = train['frase'].str.replace(':)','')\n",
    "train['frase'] = train['frase'].str.replace(':(','')\n",
    "test['frase'] = test['frase'].str.replace(':)','')\n",
    "test['frase'] = test['frase'].str.replace(':(','')"
   ]
  },
  {
   "cell_type": "code",
   "execution_count": null,
   "id": "3e56a9b7-04f0-418c-8bb9-722cc157874e",
   "metadata": {},
   "outputs": [],
   "source": []
  },
  {
   "cell_type": "markdown",
   "id": "c2c81a76-b37c-450e-a4b3-182c52ebbf08",
   "metadata": {},
   "source": [
    "### BERT \n",
    "\n",
    "### Fine tuning for classification"
   ]
  },
  {
   "cell_type": "code",
   "execution_count": 18,
   "id": "13a42c61",
   "metadata": {},
   "outputs": [],
   "source": [
    "from transformers import AutoTokenizer, AutoModelForSequenceClassification, Trainer, TrainingArguments\n",
    "import torch"
   ]
  },
  {
   "cell_type": "code",
   "execution_count": 19,
   "id": "e6b0a967-c8f8-4ade-9000-dfc7e28f7290",
   "metadata": {},
   "outputs": [],
   "source": [
    "from datasets import Dataset   # para transformar la data al formato Huggingface\n",
    "import evaluate   # para importar las métricas de evaluación del modelo"
   ]
  },
  {
   "cell_type": "markdown",
   "id": "aa573a91",
   "metadata": {},
   "source": [
    "Cargando el modelo pre-trained BERT y el tokenizador. En este caso, Roberta, porque BETO no funcionó. \n",
    "\n",
    "https://huggingface.co/MMG/xlm-roberta-base-sa-spanish"
   ]
  },
  {
   "cell_type": "code",
   "execution_count": 20,
   "id": "1237a44c-f36e-4873-8e24-aaea334bcd1b",
   "metadata": {},
   "outputs": [],
   "source": [
    "tokenizer = AutoTokenizer.from_pretrained(\"MMG/xlm-roberta-base-sa-spanish\")"
   ]
  },
  {
   "cell_type": "code",
   "execution_count": 21,
   "id": "313b2960-d0bc-43bf-851c-d8f7387107e3",
   "metadata": {},
   "outputs": [],
   "source": [
    "model = AutoModelForSequenceClassification.from_pretrained(\"MMG/xlm-roberta-base-sa-spanish\",num_labels=3)"
   ]
  },
  {
   "cell_type": "code",
   "execution_count": 22,
   "id": "cdf65cee-fdb4-48c1-9a7a-be51a3229cb2",
   "metadata": {},
   "outputs": [
    {
     "data": {
      "text/plain": [
       "XLMRobertaTokenizerFast(name_or_path='MMG/xlm-roberta-base-sa-spanish', vocab_size=250002, model_max_length=512, is_fast=True, padding_side='right', truncation_side='right', special_tokens={'bos_token': '<s>', 'eos_token': '</s>', 'unk_token': '<unk>', 'sep_token': '</s>', 'pad_token': '<pad>', 'cls_token': '<s>', 'mask_token': '<mask>'}, clean_up_tokenization_spaces=True),  added_tokens_decoder={\n",
       "\t0: AddedToken(\"<s>\", rstrip=False, lstrip=False, single_word=False, normalized=False, special=True),\n",
       "\t1: AddedToken(\"<pad>\", rstrip=False, lstrip=False, single_word=False, normalized=False, special=True),\n",
       "\t2: AddedToken(\"</s>\", rstrip=False, lstrip=False, single_word=False, normalized=False, special=True),\n",
       "\t3: AddedToken(\"<unk>\", rstrip=False, lstrip=False, single_word=False, normalized=False, special=True),\n",
       "\t250001: AddedToken(\"<mask>\", rstrip=False, lstrip=True, single_word=False, normalized=False, special=True),\n",
       "}"
      ]
     },
     "execution_count": 22,
     "metadata": {},
     "output_type": "execute_result"
    }
   ],
   "source": [
    "tokenizer"
   ]
  },
  {
   "cell_type": "code",
   "execution_count": 23,
   "id": "56e49dc1-943b-49fc-91f3-a1d33f7b54a5",
   "metadata": {},
   "outputs": [
    {
     "data": {
      "text/plain": [
       "'</s>'"
      ]
     },
     "execution_count": 23,
     "metadata": {},
     "output_type": "execute_result"
    }
   ],
   "source": [
    "tokenizer.sep_token"
   ]
  },
  {
   "cell_type": "code",
   "execution_count": 24,
   "id": "6c51acb7-0e97-4eef-84a8-37166d1539f6",
   "metadata": {},
   "outputs": [
    {
     "data": {
      "text/plain": [
       "2"
      ]
     },
     "execution_count": 24,
     "metadata": {},
     "output_type": "execute_result"
    }
   ],
   "source": [
    "tokenizer.sep_token_id"
   ]
  },
  {
   "cell_type": "code",
   "execution_count": 25,
   "id": "9b4b5683",
   "metadata": {},
   "outputs": [
    {
     "data": {
      "text/plain": [
       "['▁облека',\n",
       " 'తు',\n",
       " '▁pemberitahuan',\n",
       " '▁travel',\n",
       " '▁colonia',\n",
       " '▁vortoj',\n",
       " '၇',\n",
       " 'imbaji',\n",
       " 'rance',\n",
       " '▁faks']"
      ]
     },
     "execution_count": 25,
     "metadata": {},
     "output_type": "execute_result"
    }
   ],
   "source": [
    "list(tokenizer.vocab.keys())[0:10]"
   ]
  },
  {
   "cell_type": "code",
   "execution_count": 26,
   "id": "bdc883ca-5f3a-47cc-b05b-dbbf44da26b6",
   "metadata": {},
   "outputs": [
    {
     "data": {
      "text/plain": [
       "250002"
      ]
     },
     "execution_count": 26,
     "metadata": {},
     "output_type": "execute_result"
    }
   ],
   "source": [
    "len(list(tokenizer.vocab.keys()))"
   ]
  },
  {
   "cell_type": "markdown",
   "id": "17c042f4",
   "metadata": {},
   "source": [
    "Conviertiendo la data en algo que HuggingFace pueda leer. La gracia de los objetos tipo HG Dataset es que son memory-mapped, esto es, que el contenido se almacena en una memoria virtual y por lo mismo, no está sujeta a la RAM del compu de uno. "
   ]
  },
  {
   "cell_type": "code",
   "execution_count": 27,
   "id": "6d96a026",
   "metadata": {},
   "outputs": [],
   "source": [
    "hg_train_data = Dataset.from_pandas(train)\n",
    "hg_test_data = Dataset.from_pandas(test)"
   ]
  },
  {
   "cell_type": "code",
   "execution_count": 28,
   "id": "8156b26c-622c-4dd2-9616-783ed70e1fc9",
   "metadata": {},
   "outputs": [
    {
     "data": {
      "text/plain": [
       "{'frase': 'Oficialmente te odio tarea  #MTVHottest Justin Bieber',\n",
       " 'label': 1,\n",
       " '__index_level_0__': 85523}"
      ]
     },
     "execution_count": 28,
     "metadata": {},
     "output_type": "execute_result"
    }
   ],
   "source": [
    "hg_train_data[0]"
   ]
  },
  {
   "cell_type": "code",
   "execution_count": 29,
   "id": "94362070-af94-411d-bc3e-797f6b82de6e",
   "metadata": {},
   "outputs": [
    {
     "data": {
      "text/plain": [
       "1125"
      ]
     },
     "execution_count": 29,
     "metadata": {},
     "output_type": "execute_result"
    }
   ],
   "source": [
    "len(hg_train_data)"
   ]
  },
  {
   "cell_type": "markdown",
   "id": "8198c9a4-221a-48a8-8ad2-921821c13375",
   "metadata": {},
   "source": [
    "Como vemos, cada elemento es un diccionario, que hereda los nombre de los campos de acuerdo a las columnas del dataframe, y añade un campo que corresponde al índice. Por lo demás, tiene el mismo largo que el dataframe original."
   ]
  },
  {
   "cell_type": "markdown",
   "id": "3b274854-1805-4aef-a4b8-921f7380194e",
   "metadata": {},
   "source": [
    "Para aplicar el tokenizador a todo el dataset, lo definimos dentro de una función, para luego poder mapearla. Tenemos que definir cual es el número de máximo de tokens para los documentos, sobre eso se su truncará y en base a eso se aplicará el padding."
   ]
  },
  {
   "cell_type": "code",
   "execution_count": 30,
   "id": "8dcb8b01-f87d-4440-8b1d-8a73579fe120",
   "metadata": {},
   "outputs": [],
   "source": [
    "# Tokenize the texts\n",
    "def tokenize_dataset(data):\n",
    " return tokenizer(data['frase'], max_length= 32, padding='max_length', truncation=True)   # return_tensors=\"pt\""
   ]
  },
  {
   "cell_type": "code",
   "execution_count": 31,
   "id": "530fb733-94c6-454e-b8a1-c688f6f38aa9",
   "metadata": {},
   "outputs": [
    {
     "data": {
      "application/vnd.jupyter.widget-view+json": {
       "model_id": "129f8c8d1428408ca8f110ec1712b23a",
       "version_major": 2,
       "version_minor": 0
      },
      "text/plain": [
       "Map:   0%|          | 0/1125 [00:00<?, ? examples/s]"
      ]
     },
     "metadata": {},
     "output_type": "display_data"
    },
    {
     "data": {
      "application/vnd.jupyter.widget-view+json": {
       "model_id": "80b166242e4f42938b28c276541f2778",
       "version_major": 2,
       "version_minor": 0
      },
      "text/plain": [
       "Map:   0%|          | 0/375 [00:00<?, ? examples/s]"
      ]
     },
     "metadata": {},
     "output_type": "display_data"
    }
   ],
   "source": [
    "dataset_train = hg_train_data.map(tokenize_dataset,batched=True)\n",
    "dataset_test = hg_test_data.map(tokenize_dataset,batched=True)"
   ]
  },
  {
   "cell_type": "code",
   "execution_count": 32,
   "id": "0579b70f-3092-4146-a6cf-bfa0d6b85834",
   "metadata": {},
   "outputs": [
    {
     "name": "stdout",
     "output_type": "stream",
     "text": [
      "Dataset({\n",
      "    features: ['frase', 'label', '__index_level_0__', 'input_ids', 'attention_mask'],\n",
      "    num_rows: 1125\n",
      "})\n"
     ]
    }
   ],
   "source": [
    "print(dataset_train)"
   ]
  },
  {
   "cell_type": "code",
   "execution_count": 33,
   "id": "59ba814a-8f6d-4f27-9bfe-3a3f9a8c3c36",
   "metadata": {},
   "outputs": [],
   "source": [
    "#dataset_train[2]"
   ]
  },
  {
   "cell_type": "markdown",
   "id": "b2ea1a5d-6246-4e64-9201-2ca17b6a2cee",
   "metadata": {},
   "source": [
    "El paso siguiente es especificar los argumentos con que se entrenará el modelo. Los parámetros del Trainer son muchos (del orden de 100), lo que da mucha flexibilidad (para el que quiera meterse ahí). Algunos que me parecieron importantes:\n",
    "\n",
    "eval strategy <br>\n",
    "num_train_epochs  <br>\n",
    "output_dir <br>\n",
    "per_device_train_batch_size <br>\n",
    "\n",
    "Un epoch consiste en un ciclo completo del dataset de entranamiento, y se compone de varios steps. Cuantos, depende del batch size. <br>\n",
    "Number of Steps per Epoch = (Total Number of Training Samples) / (Batch Size)\n",
    "\n",
    "- The batch size is a hyperparameter of gradient descent that controls the number of training samples to work through before the model’s internal parameters are updated.\n",
    "- The number of epochs is a hyperparameter of gradient descent that controls the number of complete passes through the training dataset.\n",
    "\n",
    "https://huggingface.co/docs/transformers/en/main_classes/trainer#transformers.TrainingArgument<br>\n",
    "https://machinelearningmastery.com/difference-between-a-batch-and-an-epoch/s"
   ]
  },
  {
   "cell_type": "code",
   "execution_count": 34,
   "id": "ce67f642-4114-40e7-b798-568567d704b7",
   "metadata": {},
   "outputs": [],
   "source": [
    "# (1125/8)  = 141\n",
    "# 141 * 3 = 423"
   ]
  },
  {
   "cell_type": "code",
   "execution_count": 35,
   "id": "123637b4-3045-440c-9a25-1c7c8be7d4e5",
   "metadata": {},
   "outputs": [],
   "source": [
    "training_args = TrainingArguments(output_dir=\"test_trainer\", eval_strategy=\"epoch\", num_train_epochs=3, per_device_train_batch_size=8)"
   ]
  },
  {
   "cell_type": "code",
   "execution_count": 36,
   "id": "b9cbcacd-e0fe-4ff3-9d7f-91000e04e1eb",
   "metadata": {},
   "outputs": [
    {
     "data": {
      "text/plain": [
       "Dataset({\n",
       "    features: ['frase', 'label', '__index_level_0__', 'input_ids', 'attention_mask'],\n",
       "    num_rows: 375\n",
       "})"
      ]
     },
     "execution_count": 36,
     "metadata": {},
     "output_type": "execute_result"
    }
   ],
   "source": [
    "dataset_test"
   ]
  },
  {
   "cell_type": "code",
   "execution_count": 37,
   "id": "005afcb3-12c2-49d9-a0ed-ffaff6b2cb9e",
   "metadata": {},
   "outputs": [],
   "source": [
    "metric = evaluate.load(\"accuracy\")\n",
    "def compute_metrics(eval_pred):\n",
    "    logits,labels = eval_pred\n",
    "    predictions = np.argmax(logits,axis=-1)\n",
    "    return metric.compute(predictions=predictions, references=labels)"
   ]
  },
  {
   "cell_type": "code",
   "execution_count": null,
   "id": "1578f3f0-ebea-4b4c-8e37-6195f9176dee",
   "metadata": {},
   "outputs": [
    {
     "data": {
      "text/html": [
       "\n",
       "    <div>\n",
       "      \n",
       "      <progress value='335' max='423' style='width:300px; height:20px; vertical-align: middle;'></progress>\n",
       "      [335/423 26:54 < 07:06, 0.21 it/s, Epoch 2.37/3]\n",
       "    </div>\n",
       "    <table border=\"1\" class=\"dataframe\">\n",
       "  <thead>\n",
       " <tr style=\"text-align: left;\">\n",
       "      <th>Epoch</th>\n",
       "      <th>Training Loss</th>\n",
       "      <th>Validation Loss</th>\n",
       "      <th>Accuracy</th>\n",
       "    </tr>\n",
       "  </thead>\n",
       "  <tbody>\n",
       "    <tr>\n",
       "      <td>1</td>\n",
       "      <td>No log</td>\n",
       "      <td>0.834877</td>\n",
       "      <td>0.640000</td>\n",
       "    </tr>\n",
       "    <tr>\n",
       "      <td>2</td>\n",
       "      <td>No log</td>\n",
       "      <td>0.718271</td>\n",
       "      <td>0.677333</td>\n",
       "    </tr>\n",
       "  </tbody>\n",
       "</table><p>"
      ],
      "text/plain": [
       "<IPython.core.display.HTML object>"
      ]
     },
     "metadata": {},
     "output_type": "display_data"
    }
   ],
   "source": [
    "# Initialize the Trainer\n",
    "trainer = Trainer(\n",
    "    model=model,\n",
    "    args=training_args,\n",
    "    train_dataset=dataset_train,\n",
    "    eval_dataset=dataset_test,\n",
    "    compute_metrics = compute_metrics,\n",
    "    tokenizer=tokenizer\n",
    ")\n",
    "\n",
    "# Train the model\n",
    "trainer.train()\n"
   ]
  },
  {
   "cell_type": "code",
   "execution_count": null,
   "id": "7981c01f-a9b0-440f-b7fb-ab9689de4c24",
   "metadata": {},
   "outputs": [],
   "source": [
    "trainer.evaluate(dataset_test)"
   ]
  },
  {
   "cell_type": "code",
   "execution_count": null,
   "id": "dd6cd18e-ecc2-4018-bd45-c0ea7a0d9963",
   "metadata": {},
   "outputs": [],
   "source": [
    "trainer.save_model('seq_classification2')"
   ]
  },
  {
   "cell_type": "code",
   "execution_count": null,
   "id": "ef347f6b-cf65-4582-9d98-565b107a8472",
   "metadata": {},
   "outputs": [],
   "source": [
    "y_test_predict = trainer.predict(dataset_test)"
   ]
  },
  {
   "cell_type": "code",
   "execution_count": null,
   "id": "32f21153-b5cf-488d-9322-2a36f3700555",
   "metadata": {},
   "outputs": [],
   "source": [
    "y_test_predict.predictions"
   ]
  },
  {
   "cell_type": "code",
   "execution_count": null,
   "id": "0fda3e18-7095-4b06-abc0-776d1176ea17",
   "metadata": {},
   "outputs": [],
   "source": [
    "y_test_predict.label_ids"
   ]
  },
  {
   "cell_type": "code",
   "execution_count": null,
   "id": "f5b49cb4-d38b-4c4c-842a-3ed285baa8d1",
   "metadata": {},
   "outputs": [],
   "source": []
  },
  {
   "cell_type": "code",
   "execution_count": null,
   "id": "12cb658e-3ddc-42d8-a859-c48cc36e7990",
   "metadata": {},
   "outputs": [],
   "source": []
  },
  {
   "cell_type": "code",
   "execution_count": null,
   "id": "32808cc7-015b-4eda-b83a-0380838e3154",
   "metadata": {},
   "outputs": [],
   "source": []
  },
  {
   "cell_type": "code",
   "execution_count": null,
   "id": "1db9f50f-b99f-4a24-bb1c-658dd03d6e69",
   "metadata": {},
   "outputs": [],
   "source": []
  }
 ],
 "metadata": {
  "kernelspec": {
   "display_name": "Python 3 (ipykernel)",
   "language": "python",
   "name": "python3"
  },
  "language_info": {
   "codemirror_mode": {
    "name": "ipython",
    "version": 3
   },
   "file_extension": ".py",
   "mimetype": "text/x-python",
   "name": "python",
   "nbconvert_exporter": "python",
   "pygments_lexer": "ipython3",
   "version": "3.11.13"
  }
 },
 "nbformat": 4,
 "nbformat_minor": 5
}
